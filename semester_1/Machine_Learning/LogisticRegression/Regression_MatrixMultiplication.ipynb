{
 "cells": [
  {
   "cell_type": "markdown",
   "metadata": {},
   "source": [
    "# Linear Regression, Least Squares & Matrix Multiplication\n",
    "\n",
    "This notebook gives an example of solving linear least squares through matrix multiplcation. Adapted from code: <https://en.wikipedia.org/wiki/Linear_least_squares_(mathematics)#Python>"
   ]
  },
  {
   "cell_type": "code",
   "execution_count": 1,
   "metadata": {},
   "outputs": [],
   "source": [
    "import numpy as np\n",
    "import matplotlib.pyplot as plt"
   ]
  },
  {
   "cell_type": "markdown",
   "metadata": {},
   "source": [
    "## Define a dataset"
   ]
  },
  {
   "cell_type": "code",
   "execution_count": 2,
   "metadata": {},
   "outputs": [],
   "source": [
    "data = np.array([\n",
    "    [60,  25, 1, 3,  25000],\n",
    "    [68,   7, 3, 3,  42000],\n",
    "    [54,  43, 2, 2,  19000],\n",
    "    [110, 12, 4, 4, 120000]\n",
    "])\n",
    "m = len(data)"
   ]
  },
  {
   "cell_type": "markdown",
   "metadata": {},
   "source": [
    "## Generate the matrix X"
   ]
  },
  {
   "cell_type": "code",
   "execution_count": 3,
   "metadata": {},
   "outputs": [
    {
     "name": "stdout",
     "output_type": "stream",
     "text": [
      "[[  1.  60.]\n",
      " [  1.  68.]\n",
      " [  1.  54.]\n",
      " [  1. 110.]]\n"
     ]
    }
   ],
   "source": [
    "X = np.array([np.ones(m), data[:, 0]]).T\n",
    "print(X)"
   ]
  },
  {
   "cell_type": "markdown",
   "metadata": {},
   "source": [
    "## Generate vector y"
   ]
  },
  {
   "cell_type": "code",
   "execution_count": 4,
   "metadata": {},
   "outputs": [
    {
     "name": "stdout",
     "output_type": "stream",
     "text": [
      "[ 25000  42000  19000 120000]\n"
     ]
    }
   ],
   "source": [
    "y = np.array(data[:, -1])\n",
    "print(y)"
   ]
  },
  {
   "cell_type": "code",
   "execution_count": 5,
   "metadata": {},
   "outputs": [
    {
     "name": "stdout",
     "output_type": "stream",
     "text": [
      "[[ 25000]\n",
      " [ 42000]\n",
      " [ 19000]\n",
      " [120000]]\n"
     ]
    }
   ],
   "source": [
    "y = y.reshape(-1, 1)\n",
    "print(y)"
   ]
  },
  {
   "cell_type": "markdown",
   "metadata": {},
   "source": [
    "## Solving $(X^T X)^{-1} X^T y$ "
   ]
  },
  {
   "cell_type": "code",
   "execution_count": 6,
   "metadata": {
    "scrolled": true
   },
   "outputs": [
    {
     "name": "stdout",
     "output_type": "stream",
     "text": [
      "[[-82965.6964657]\n",
      " [  1841.995842 ]]\n"
     ]
    }
   ],
   "source": [
    "w_hat = np.linalg.solve(X.T.dot(X), X.T.dot(y))\n",
    "print(w_hat)"
   ]
  },
  {
   "cell_type": "code",
   "execution_count": 7,
   "metadata": {},
   "outputs": [
    {
     "name": "stdout",
     "output_type": "stream",
     "text": [
      "[[-82965.6964657]\n",
      " [  1841.995842 ]]\n"
     ]
    }
   ],
   "source": [
    "a = X.T.dot(X)\n",
    "inverse = np.linalg.inv(a)\n",
    "b = X.T.dot(y)\n",
    "w_hat2 = inverse.dot(b)\n",
    "print(w_hat2)"
   ]
  },
  {
   "cell_type": "markdown",
   "metadata": {},
   "source": [
    "## Evaluate model on $x$ from 20 to 160 $m^2$ "
   ]
  },
  {
   "cell_type": "code",
   "execution_count": 8,
   "metadata": {},
   "outputs": [
    {
     "data": {
      "image/png": "[encoded data removed]",
      "text/plain": [
       "<Figure size 432x288 with 1 Axes>"
      ]
     },
     "metadata": {
      "needs_background": "light"
     },
     "output_type": "display_data"
    }
   ],
   "source": [
    "xx = np.linspace(20, 160, 20)\n",
    "yy = np.array(w_hat[0] + w_hat[1] * xx)\n",
    "plt.plot(xx, yy.T, color='b')\n",
    "plt.scatter(data[:, 0], data[:, -1], color='r')\n",
    "plt.show()"
   ]
  },
  {
   "cell_type": "code",
   "execution_count": null,
   "metadata": {},
   "outputs": [],
   "source": []
  }
 ],
 "metadata": {
  "celltoolbar": "Raw Cell Format",
  "kernelspec": {
   "display_name": "Python 3",
   "language": "python",
   "name": "python3"
  },
  "language_info": {
   "codemirror_mode": {
    "name": "ipython",
    "version": 3
   },
   "file_extension": ".py",
   "mimetype": "text/x-python",
   "name": "python",
   "nbconvert_exporter": "python",
   "pygments_lexer": "ipython3",
   "version": "3.7.4"
  }
 },
 "nbformat": 4,
 "nbformat_minor": 2
}
