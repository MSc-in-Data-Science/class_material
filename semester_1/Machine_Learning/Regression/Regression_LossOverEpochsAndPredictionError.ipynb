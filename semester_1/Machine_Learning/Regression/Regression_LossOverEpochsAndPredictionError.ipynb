{
 "cells": [
  {
   "cell_type": "code",
   "execution_count": 1,
   "metadata": {},
   "outputs": [],
   "source": [
    "from sklearn.linear_model import SGDClassifier, SGDRegressor\n",
    "import sys\n",
    "from io import StringIO\n",
    "import matplotlib.pyplot as plt\n",
    "import numpy as np"
   ]
  },
  {
   "cell_type": "markdown",
   "metadata": {},
   "source": [
    "## Read the dataset from the CSV file"
   ]
  },
  {
   "cell_type": "code",
   "execution_count": 2,
   "metadata": {},
   "outputs": [],
   "source": [
    "import pandas\n",
    "\n",
    "df = pandas.read_csv('../datasets/bike-sharing-dataset/day.csv')"
   ]
  },
  {
   "cell_type": "markdown",
   "metadata": {},
   "source": [
    "## Select only one feature ('temp') for X"
   ]
  },
  {
   "cell_type": "code",
   "execution_count": 3,
   "metadata": {},
   "outputs": [
    {
     "name": "stdout",
     "output_type": "stream",
     "text": [
      "       temp\n",
      "0  0.344167\n",
      "1  0.363478\n",
      "2  0.196364\n",
      "3  0.200000\n",
      "4  0.226957\n",
      "0     985\n",
      "1     801\n",
      "2    1349\n",
      "3    1562\n",
      "4    1600\n",
      "Name: cnt, dtype: int64\n"
     ]
    }
   ],
   "source": [
    "# X = df[['season','yr','mnth','holiday','weekday','workingday','weathersit','temp','atemp','hum']]\n",
    "X = df[['temp']]\n",
    "y = df['cnt']\n",
    "print(X.head())\n",
    "print(y.head())"
   ]
  },
  {
   "cell_type": "markdown",
   "metadata": {},
   "source": [
    "## Get the loss for each epoch\n",
    "\n",
    "Scikit-learn does not offer a way to get the loss for each epoch, but it is printed in stdout. So replace stdout with a new stream, that holds the output in a string, which we will process later to get the loss for each epoch..."
   ]
  },
  {
   "cell_type": "code",
   "execution_count": 4,
   "metadata": {},
   "outputs": [
    {
     "name": "stdout",
     "output_type": "stream",
     "text": [
      "-- Epoch 1\n",
      "Norm: 33.90, NNZs: 1, Bias: 98.500000, T: 1, Avg. loss: 485112.500000\n",
      "Total training time: 0.00 seconds.\n",
      "[110.167416] [985] 874.8325839969335\n",
      "-- Epoch 1\n",
      "Norm: 64.01, NNZs: 1, Bias: 185.983258, T: 1, Avg. loss: 382666.025011\n",
      "Total training time: 0.00 seconds.\n",
      "[208.01314719] [985] 776.9868528149764\n",
      "-- Epoch 1\n",
      "Norm: 90.75, NNZs: 1, Bias: 263.681944, T: 1, Avg. loss: 301854.284724\n",
      "Total training time: 0.00 seconds.\n",
      "[294.91531352] [985] 690.0846864769246\n",
      "-- Epoch 1\n",
      "Norm: 114.50, NNZs: 1, Bias: 332.690412, T: 1, Avg. loss: 238108.437255\n",
      "Total training time: 0.00 seconds.\n",
      "[372.09789904] [985] 612.9021009617479\n",
      "-- Epoch 1\n",
      "Norm: 135.60, NNZs: 1, Bias: 393.980622, T: 1, Avg. loss: 187824.492682\n",
      "Total training time: 0.00 seconds.\n",
      "[440.64799115] [985] 544.3520088543303\n",
      "-- Epoch 1\n",
      "Norm: 154.33, NNZs: 1, Bias: 448.415823, T: 1, Avg. loss: 148159.554772\n",
      "Total training time: 0.00 seconds.\n",
      "[501.53109187] [985] 483.4689081319344\n",
      "-- Epoch 1\n",
      "Norm: 170.97, NNZs: 1, Bias: 496.762714, T: 1, Avg. loss: 116871.092565\n",
      "Total training time: 0.00 seconds.\n",
      "[555.60471657] [985] 429.39528343475763\n",
      "-- Epoch 1\n",
      "Norm: 185.75, NNZs: 1, Bias: 539.702242, T: 1, Avg. loss: 92190.154718\n",
      "Total training time: 0.00 seconds.\n",
      "[603.63047171] [985] 381.36952828763924\n",
      "-- Epoch 1\n",
      "Norm: 198.87, NNZs: 1, Bias: 577.839195, T: 1, Avg. loss: 72721.358553\n",
      "Total training time: 0.00 seconds.\n",
      "[646.28478184] [985] 338.715218161997\n",
      "-- Epoch 1\n",
      "Norm: 210.53, NNZs: 1, Bias: 611.710717, T: 1, Avg. loss: 57363.999507\n",
      "Total training time: 0.00 seconds.\n",
      "[684.16841671] [985] 300.8315832931421\n",
      "-- Epoch 1\n",
      "Norm: 220.88, NNZs: 1, Bias: 641.793875, T: 1, Avg. loss: 45249.820753\n",
      "Total training time: 0.00 seconds.\n",
      "[717.81495293] [985] 267.1850470662215\n",
      "-- Epoch 1\n",
      "Norm: 230.08, NNZs: 1, Bias: 668.512380, T: 1, Avg. loss: 35693.924688\n",
      "Total training time: 0.00 seconds.\n",
      "[747.69828921] [985] 237.30171079216734\n",
      "-- Epoch 1\n",
      "Norm: 238.25, NNZs: 1, Bias: 692.242551, T: 1, Avg. loss: 28156.050972\n",
      "Total training time: 0.00 seconds.\n",
      "[774.23932098] [985] 210.7606790245734\n",
      "-- Epoch 1\n",
      "Norm: 245.50, NNZs: 1, Bias: 713.318619, T: 1, Avg. loss: 22210.031911\n",
      "Total training time: 0.00 seconds.\n",
      "[797.81186859] [985] 187.18813140712268\n",
      "-- Epoch 1\n",
      "Norm: 251.94, NNZs: 1, Bias: 732.037432, T: 1, Avg. loss: 17519.698270\n",
      "Total training time: 0.00 seconds.\n",
      "[818.74794244] [985] 166.25205755578747\n",
      "\n"
     ]
    }
   ],
   "source": [
    "old_stdout = sys.stdout\n",
    "sys.stdout = mystdout = StringIO()"
   ]
  },
  {
   "cell_type": "markdown",
   "metadata": {},
   "source": [
    "We will use only a single instance, to avoid the sum over all instances:"
   ]
  },
  {
   "cell_type": "code",
   "execution_count": 5,
   "metadata": {},
   "outputs": [],
   "source": [
    "n = 1 ;# number of instances to keep\n",
    "fX = X[:n].values\n",
    "fy = y[:n].values"
   ]
  },
  {
   "cell_type": "markdown",
   "metadata": {},
   "source": [
    "We are not going to use the linear regression package, we are going to use the stochastic gradient descent with suitable options, to get linear regression...\n",
    "\n",
    "Learning rate is the parameter `eta0`, which we keep `constant`."
   ]
  },
  {
   "cell_type": "code",
   "execution_count": 56,
   "metadata": {},
   "outputs": [],
   "source": [
    "learning_rate = 0.01\n",
    "\n",
    "\n",
    "sgd = SGDRegressor(loss=\"squared_loss\", learning_rate='constant', eta0=learning_rate, penalty=None, max_iter=1,\n",
    "                   average=False, random_state=2018, verbose=1)"
   ]
  },
  {
   "cell_type": "markdown",
   "metadata": {},
   "source": [
    "As we need to calculate also $y-\\hat{y}$, we have put `max_iter=1` to do only one step, and we will simulate the epochs with our loop, using `partial_fit()`, which does not re-initialise coefficients $\\overrightarrow{w}$, and proceeds with the current ones (stored in the model)."
   ]
  },
  {
   "cell_type": "code",
   "execution_count": 63,
   "metadata": {},
   "outputs": [
    {
     "name": "stdout",
     "output_type": "stream",
     "text": [
      "-- Epoch 1\n",
      "Norm: 49.92, NNZs: 1, Bias: 145.045502, T: 1, Avg. loss: 346178.672903\n",
      "Total training time: 0.00 seconds.\n",
      "[49.9198754]\n",
      "[162.22627608] [985] 822.7737239192808\n",
      "-- Epoch 1\n",
      "Norm: 52.75, NNZs: 1, Bias: 153.273240, T: 1, Avg. loss: 338478.300386\n",
      "Total training time: 0.00 seconds.\n",
      "[52.75159104]\n",
      "[171.4285964] [985] 813.5714036025896\n",
      "-- Epoch 1\n",
      "Norm: 55.55, NNZs: 1, Bias: 161.408954, T: 1, Avg. loss: 330949.214380\n",
      "Total training time: 0.00 seconds.\n",
      "[55.55163533]\n",
      "[180.52799328] [985] 804.4720067224997\n",
      "-- Epoch 1\n",
      "Norm: 58.32, NNZs: 1, Bias: 169.453674, T: 1, Avg. loss: 323587.604800\n",
      "Total training time: 0.00 seconds.\n",
      "[58.3203625]\n",
      "[189.52561787] [985] 795.4743821308836\n",
      "-- Epoch 1\n",
      "Norm: 61.06, NNZs: 1, Bias: 177.408417, T: 1, Avg. loss: 316389.746313\n",
      "Total training time: 0.00 seconds.\n",
      "[61.05812282]\n",
      "[198.42260845] [985] 786.5773915546404\n",
      "-- Epoch 1\n",
      "Norm: 63.77, NNZs: 1, Bias: 185.274191, T: 1, Avg. loss: 309351.996452\n",
      "Total training time: 0.00 seconds.\n",
      "[63.76526263]\n",
      "[207.22009055] [985] 777.7799094516955\n",
      "-- Epoch 1\n",
      "Norm: 66.44, NNZs: 1, Bias: 193.051990, T: 1, Avg. loss: 302470.793773\n",
      "Total training time: 0.00 seconds.\n",
      "[66.44212441]\n",
      "[215.91917713] [985] 769.08082286861\n",
      "-- Epoch 1\n",
      "Norm: 69.09, NNZs: 1, Bias: 200.742799, T: 1, Avg. loss: 295742.656052\n",
      "Total training time: 0.00 seconds.\n",
      "[69.08904681]\n",
      "[224.5209687] [985] 760.479031299783\n",
      "-- Epoch 1\n",
      "Norm: 71.71, NNZs: 1, Bias: 208.347589, T: 1, Avg. loss: 289164.178523\n",
      "Total training time: 0.00 seconds.\n",
      "[71.70636468]\n",
      "[233.02655345] [985] 751.9734465482284\n",
      "-- Epoch 1\n",
      "Norm: 74.29, NNZs: 1, Bias: 215.867324, T: 1, Avg. loss: 282732.032157\n",
      "Total training time: 0.00 seconds.\n",
      "[74.29440913]\n",
      "[241.43700741] [985] 743.5629925879098\n",
      "-- Epoch 1\n",
      "Norm: 76.85, NNZs: 1, Bias: 223.302953, T: 1, Avg. loss: 276442.961973\n",
      "Total training time: 0.00 seconds.\n",
      "[76.85350757]\n",
      "[249.75339457] [985] 735.2466054276135\n",
      "-- Epoch 1\n",
      "Norm: 79.38, NNZs: 1, Bias: 230.655419, T: 1, Avg. loss: 270293.785396\n",
      "Total training time: 0.00 seconds.\n",
      "[79.38398376]\n",
      "[257.97676702] [985] 727.023232976346\n",
      "-- Epoch 1\n",
      "Norm: 81.89, NNZs: 1, Bias: 237.925652, T: 1, Avg. loss: 264281.390644\n",
      "Total training time: 0.00 seconds.\n",
      "[81.88615781]\n",
      "[266.10816509] [985] 718.8918349102343\n",
      "-- Epoch 1\n",
      "Norm: 84.36, NNZs: 1, Bias: 245.114570, T: 1, Avg. loss: 258402.735150\n",
      "Total training time: 0.00 seconds.\n",
      "[84.36034627]\n",
      "[274.14861746] [985] 710.8513825409182\n",
      "-- Epoch 1\n",
      "Norm: 86.81, NNZs: 1, Bias: 252.223084, T: 1, Avg. loss: 252654.844030\n",
      "Total training time: 0.00 seconds.\n",
      "[86.80686215]\n",
      "[282.09914131] [985] 702.9008586854115\n"
     ]
    }
   ],
   "source": [
    "p_sum = [] ;# this holds the sum of y-y_hat, for all instances (ok, we have only one instance)\n",
    "coef_list=[]; # this holds the coefficient values\n",
    "epochs = 15 ;# number of epochs\n",
    "\n",
    "for epoch in range(epochs):\n",
    "    model = sgd.partial_fit(fX, fy)\n",
    "    y = model.predict(fX)\n",
    "    coef_list.append(model.coef_.tolist())\n",
    "    print(model.coef_)\n",
    "    p_sum.append(np.sum(fy-y))\n",
    "    print(y, fy, np.sum(fy-y))"
   ]
  },
  {
   "cell_type": "markdown",
   "metadata": {},
   "source": [
    "Restore the original stdout, and collect the loss from the prints in array `loss_list`:"
   ]
  },
  {
   "cell_type": "code",
   "execution_count": 64,
   "metadata": {},
   "outputs": [
    {
     "name": "stdout",
     "output_type": "stream",
     "text": [
      "-- Epoch 1\n",
      "Norm: 33.90, NNZs: 1, Bias: 98.500000, T: 1, Avg. loss: 485112.500000\n",
      "Total training time: 0.00 seconds.\n",
      "[110.167416] [985] 874.8325839969335\n",
      "-- Epoch 1\n",
      "Norm: 64.01, NNZs: 1, Bias: 185.983258, T: 1, Avg. loss: 382666.025011\n",
      "Total training time: 0.00 seconds.\n",
      "[208.01314719] [985] 776.9868528149764\n",
      "-- Epoch 1\n",
      "Norm: 90.75, NNZs: 1, Bias: 263.681944, T: 1, Avg. loss: 301854.284724\n",
      "Total training time: 0.00 seconds.\n",
      "[294.91531352] [985] 690.0846864769246\n",
      "-- Epoch 1\n",
      "Norm: 114.50, NNZs: 1, Bias: 332.690412, T: 1, Avg. loss: 238108.437255\n",
      "Total training time: 0.00 seconds.\n",
      "[372.09789904] [985] 612.9021009617479\n",
      "-- Epoch 1\n",
      "Norm: 135.60, NNZs: 1, Bias: 393.980622, T: 1, Avg. loss: 187824.492682\n",
      "Total training time: 0.00 seconds.\n",
      "[440.64799115] [985] 544.3520088543303\n",
      "-- Epoch 1\n",
      "Norm: 154.33, NNZs: 1, Bias: 448.415823, T: 1, Avg. loss: 148159.554772\n",
      "Total training time: 0.00 seconds.\n",
      "[501.53109187] [985] 483.4689081319344\n",
      "-- Epoch 1\n",
      "Norm: 170.97, NNZs: 1, Bias: 496.762714, T: 1, Avg. loss: 116871.092565\n",
      "Total training time: 0.00 seconds.\n",
      "[555.60471657] [985] 429.39528343475763\n",
      "-- Epoch 1\n",
      "Norm: 185.75, NNZs: 1, Bias: 539.702242, T: 1, Avg. loss: 92190.154718\n",
      "Total training time: 0.00 seconds.\n",
      "[603.63047171] [985] 381.36952828763924\n",
      "-- Epoch 1\n",
      "Norm: 198.87, NNZs: 1, Bias: 577.839195, T: 1, Avg. loss: 72721.358553\n",
      "Total training time: 0.00 seconds.\n",
      "[646.28478184] [985] 338.715218161997\n",
      "-- Epoch 1\n",
      "Norm: 210.53, NNZs: 1, Bias: 611.710717, T: 1, Avg. loss: 57363.999507\n",
      "Total training time: 0.00 seconds.\n",
      "[684.16841671] [985] 300.8315832931421\n",
      "-- Epoch 1\n",
      "Norm: 220.88, NNZs: 1, Bias: 641.793875, T: 1, Avg. loss: 45249.820753\n",
      "Total training time: 0.00 seconds.\n",
      "[717.81495293] [985] 267.1850470662215\n",
      "-- Epoch 1\n",
      "Norm: 230.08, NNZs: 1, Bias: 668.512380, T: 1, Avg. loss: 35693.924688\n",
      "Total training time: 0.00 seconds.\n",
      "[747.69828921] [985] 237.30171079216734\n",
      "-- Epoch 1\n",
      "Norm: 238.25, NNZs: 1, Bias: 692.242551, T: 1, Avg. loss: 28156.050972\n",
      "Total training time: 0.00 seconds.\n",
      "[774.23932098] [985] 210.7606790245734\n",
      "-- Epoch 1\n",
      "Norm: 245.50, NNZs: 1, Bias: 713.318619, T: 1, Avg. loss: 22210.031911\n",
      "Total training time: 0.00 seconds.\n",
      "[797.81186859] [985] 187.18813140712268\n",
      "-- Epoch 1\n",
      "Norm: 251.94, NNZs: 1, Bias: 732.037432, T: 1, Avg. loss: 17519.698270\n",
      "Total training time: 0.00 seconds.\n",
      "[818.74794244] [985] 166.25205755578747\n",
      "\n"
     ]
    }
   ],
   "source": [
    "sys.stdout = old_stdout\n",
    "loss_history = mystdout.getvalue()\n",
    "print(loss_history)\n",
    "loss_list = []\n",
    "for line in loss_history.split('\\n'):\n",
    "    if(len(line.split(\"loss: \")) == 1):\n",
    "        continue\n",
    "    loss_list.append(float(line.split(\"loss: \")[-1]))"
   ]
  },
  {
   "cell_type": "markdown",
   "metadata": {},
   "source": [
    "Print the model coefficients:"
   ]
  },
  {
   "cell_type": "code",
   "execution_count": 59,
   "metadata": {},
   "outputs": [
    {
     "name": "stdout",
     "output_type": "stream",
     "text": [
      "[47.05613017]\n"
     ]
    }
   ],
   "source": [
    "print(model.coef_)"
   ]
  },
  {
   "cell_type": "markdown",
   "metadata": {},
   "source": [
    "## Print the loss function over epochs..."
   ]
  },
  {
   "cell_type": "code",
   "execution_count": 60,
   "metadata": {},
   "outputs": [
    {
     "data": {
      "image/png": "[encoded data removed]",
      "text/plain": [
       "<Figure size 432x288 with 1 Axes>"
      ]
     },
     "metadata": {
      "needs_background": "light"
     },
     "output_type": "display_data"
    }
   ],
   "source": [
    "plt.figure()\n",
    "plt.plot(np.arange(len(loss_list)), loss_list)\n",
    "plt.scatter(np.arange(len(loss_list)), loss_list)\n",
    "plt.xlabel(\"Time in epochs\")\n",
    "plt.ylabel(\"Loss\")\n",
    "plt.show()"
   ]
  },
  {
   "cell_type": "markdown",
   "metadata": {},
   "source": [
    "## Print loss with respect to $y-\\hat{y}$\n",
    "\n",
    "In our case where we use only one instance and feature, $y-\\hat{y}$ gives us an approximation of how the coeeficients are changing.\n",
    "This is not valid in the case we have more that 1 instaces. In that case we need to use the coeeficient(s) in the x-axis."
   ]
  },
  {
   "cell_type": "code",
   "execution_count": 61,
   "metadata": {
    "scrolled": false
   },
   "outputs": [
    {
     "data": {
      "image/png": "[encoded data removed]",
      "text/plain": [
       "<Figure size 432x288 with 1 Axes>"
      ]
     },
     "metadata": {
      "needs_background": "light"
     },
     "output_type": "display_data"
    }
   ],
   "source": [
    "plt.figure()\n",
    "plt.plot(p_sum, loss_list)\n",
    "plt.scatter(p_sum, loss_list)\n",
    "plt.scatter(p_sum[:1], loss_list[:1], color='red')\n",
    "plt.xlabel(\"$y-\\hat{y}$\")\n",
    "plt.ylabel(\"Loss\")\n",
    "plt.show()"
   ]
  },
  {
   "cell_type": "markdown",
   "metadata": {},
   "source": [
    "The red dot is the starting point. "
   ]
  },
  {
   "cell_type": "markdown",
   "metadata": {},
   "source": [
    "## Print loss with respect to coefficient"
   ]
  },
  {
   "cell_type": "code",
   "execution_count": 62,
   "metadata": {},
   "outputs": [
    {
     "data": {
      "image/png": "[encoded data removed]",
      "text/plain": [
       "<Figure size 432x288 with 1 Axes>"
      ]
     },
     "metadata": {
      "needs_background": "light"
     },
     "output_type": "display_data"
    }
   ],
   "source": [
    "plt.figure()\n",
    "plt.plot(coef_list, loss_list)\n",
    "plt.scatter(coef_list, loss_list)\n",
    "plt.scatter(coef_list[:1], loss_list[:1], color='red')\n",
    "plt.xlabel(\"$w$\")\n",
    "plt.ylabel(\"Loss\")\n",
    "plt.show()"
   ]
  },
  {
   "cell_type": "code",
   "execution_count": null,
   "metadata": {},
   "outputs": [],
   "source": []
  }
 ],
 "metadata": {
  "kernelspec": {
   "display_name": "Python 3",
   "language": "python",
   "name": "python3"
  },
  "language_info": {
   "codemirror_mode": {
    "name": "ipython",
    "version": 3
   },
   "file_extension": ".py",
   "mimetype": "text/x-python",
   "name": "python",
   "nbconvert_exporter": "python",
   "pygments_lexer": "ipython3",
   "version": "3.7.4"
  }
 },
 "nbformat": 4,
 "nbformat_minor": 2
}
