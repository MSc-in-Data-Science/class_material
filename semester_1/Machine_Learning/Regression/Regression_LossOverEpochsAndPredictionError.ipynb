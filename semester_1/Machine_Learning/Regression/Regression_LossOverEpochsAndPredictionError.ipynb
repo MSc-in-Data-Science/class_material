{
 "cells": [
  {
   "cell_type": "code",
   "execution_count": 1,
   "metadata": {},
   "outputs": [],
   "source": [
    "from sklearn.linear_model import SGDClassifier, SGDRegressor\n",
    "import sys\n",
    "from io import StringIO\n",
    "import matplotlib.pyplot as plt\n",
    "import numpy as np"
   ]
  },
  {
   "cell_type": "markdown",
   "metadata": {},
   "source": [
    "## Read the dataset from the CSV file"
   ]
  },
  {
   "cell_type": "code",
   "execution_count": 2,
   "metadata": {},
   "outputs": [],
   "source": [
    "import pandas\n",
    "\n",
    "df = pandas.read_csv('../datasets/bike-sharing-dataset/day.csv')"
   ]
  },
  {
   "cell_type": "markdown",
   "metadata": {},
   "source": [
    "## Select only one feature ('temp') for X"
   ]
  },
  {
   "cell_type": "code",
   "execution_count": 3,
   "metadata": {},
   "outputs": [
    {
     "name": "stdout",
     "output_type": "stream",
     "text": [
      "       temp\n",
      "0  0.344167\n",
      "1  0.363478\n",
      "2  0.196364\n",
      "3  0.200000\n",
      "4  0.226957\n",
      "0     985\n",
      "1     801\n",
      "2    1349\n",
      "3    1562\n",
      "4    1600\n",
      "Name: cnt, dtype: int64\n"
     ]
    }
   ],
   "source": [
    "# X = df[['season','yr','mnth','holiday','weekday','workingday','weathersit','temp','atemp','hum']]\n",
    "X = df[['temp']]\n",
    "y = df['cnt']\n",
    "print(X.head())\n",
    "print(y.head())"
   ]
  },
  {
   "cell_type": "markdown",
   "metadata": {},
   "source": [
    "## Get the loss for each epoch\n",
    "\n",
    "Scikit-learn does not offer a way to get the loss for each epoch, but it is printed in stdout. So replace stdout with a new stream, that holds the output in a string, which we will process later to get the loss for each epoch..."
   ]
  },
  {
   "cell_type": "code",
   "execution_count": 4,
   "metadata": {},
   "outputs": [
    {
     "name": "stdout",
     "output_type": "stream",
     "text": [
      "-- Epoch 1\n",
      "Norm: 33.90, NNZs: 1, Bias: 98.500000, T: 1, Avg. loss: 485112.500000\n",
      "Total training time: 0.00 seconds.\n",
      "[110.167416] [985] 874.8325839969335\n",
      "-- Epoch 1\n",
      "Norm: 64.01, NNZs: 1, Bias: 185.983258, T: 1, Avg. loss: 382666.025011\n",
      "Total training time: 0.00 seconds.\n",
      "[208.01314719] [985] 776.9868528149764\n",
      "-- Epoch 1\n",
      "Norm: 90.75, NNZs: 1, Bias: 263.681944, T: 1, Avg. loss: 301854.284724\n",
      "Total training time: 0.00 seconds.\n",
      "[294.91531352] [985] 690.0846864769246\n",
      "-- Epoch 1\n",
      "Norm: 114.50, NNZs: 1, Bias: 332.690412, T: 1, Avg. loss: 238108.437255\n",
      "Total training time: 0.00 seconds.\n",
      "[372.09789904] [985] 612.9021009617479\n",
      "-- Epoch 1\n",
      "Norm: 135.60, NNZs: 1, Bias: 393.980622, T: 1, Avg. loss: 187824.492682\n",
      "Total training time: 0.00 seconds.\n",
      "[440.64799115] [985] 544.3520088543303\n",
      "-- Epoch 1\n",
      "Norm: 154.33, NNZs: 1, Bias: 448.415823, T: 1, Avg. loss: 148159.554772\n",
      "Total training time: 0.00 seconds.\n",
      "[501.53109187] [985] 483.4689081319344\n",
      "-- Epoch 1\n",
      "Norm: 170.97, NNZs: 1, Bias: 496.762714, T: 1, Avg. loss: 116871.092565\n",
      "Total training time: 0.00 seconds.\n",
      "[555.60471657] [985] 429.39528343475763\n",
      "-- Epoch 1\n",
      "Norm: 185.75, NNZs: 1, Bias: 539.702242, T: 1, Avg. loss: 92190.154718\n",
      "Total training time: 0.00 seconds.\n",
      "[603.63047171] [985] 381.36952828763924\n",
      "-- Epoch 1\n",
      "Norm: 198.87, NNZs: 1, Bias: 577.839195, T: 1, Avg. loss: 72721.358553\n",
      "Total training time: 0.00 seconds.\n",
      "[646.28478184] [985] 338.715218161997\n",
      "-- Epoch 1\n",
      "Norm: 210.53, NNZs: 1, Bias: 611.710717, T: 1, Avg. loss: 57363.999507\n",
      "Total training time: 0.00 seconds.\n",
      "[684.16841671] [985] 300.8315832931421\n",
      "-- Epoch 1\n",
      "Norm: 220.88, NNZs: 1, Bias: 641.793875, T: 1, Avg. loss: 45249.820753\n",
      "Total training time: 0.00 seconds.\n",
      "[717.81495293] [985] 267.1850470662215\n",
      "-- Epoch 1\n",
      "Norm: 230.08, NNZs: 1, Bias: 668.512380, T: 1, Avg. loss: 35693.924688\n",
      "Total training time: 0.00 seconds.\n",
      "[747.69828921] [985] 237.30171079216734\n",
      "-- Epoch 1\n",
      "Norm: 238.25, NNZs: 1, Bias: 692.242551, T: 1, Avg. loss: 28156.050972\n",
      "Total training time: 0.00 seconds.\n",
      "[774.23932098] [985] 210.7606790245734\n",
      "-- Epoch 1\n",
      "Norm: 245.50, NNZs: 1, Bias: 713.318619, T: 1, Avg. loss: 22210.031911\n",
      "Total training time: 0.00 seconds.\n",
      "[797.81186859] [985] 187.18813140712268\n",
      "-- Epoch 1\n",
      "Norm: 251.94, NNZs: 1, Bias: 732.037432, T: 1, Avg. loss: 17519.698270\n",
      "Total training time: 0.00 seconds.\n",
      "[818.74794244] [985] 166.25205755578747\n",
      "\n"
     ]
    }
   ],
   "source": [
    "old_stdout = sys.stdout\n",
    "sys.stdout = mystdout = StringIO()"
   ]
  },
  {
   "cell_type": "markdown",
   "metadata": {},
   "source": [
    "We will use only a single instance, to avoid the sum over all instances:"
   ]
  },
  {
   "cell_type": "code",
   "execution_count": 5,
   "metadata": {},
   "outputs": [],
   "source": [
    "n = 1 ;# number of instances to keep\n",
    "fX = X[:n].values\n",
    "fy = y[:n].values"
   ]
  },
  {
   "cell_type": "markdown",
   "metadata": {},
   "source": [
    "We are not going to use the linear regression package, we are going to use the stochastic gradient descent with suitable options, to get linear regression...\n",
    "\n",
    "Learning rate is the parameter `eta0`, which we keep `constant`."
   ]
  },
  {
   "cell_type": "code",
   "execution_count": 85,
   "metadata": {},
   "outputs": [],
   "source": [
    "learning_rate = 0.1\n",
    "\n",
    "\n",
    "sgd = SGDRegressor(loss=\"squared_loss\", learning_rate='constant', eta0=learning_rate, penalty=None, max_iter=1,\n",
    "                   average=False, random_state=2018, verbose=1)"
   ]
  },
  {
   "cell_type": "markdown",
   "metadata": {},
   "source": [
    "As we need to calculate also $y-\\hat{y}$, we have put `max_iter=1` to do only one step, and we will simulate the epochs with our loop, using `partial_fit()`, which does not re-initialise coefficients $\\overrightarrow{w}$, and proceeds with the current ones (stored in the model)."
   ]
  },
  {
   "cell_type": "code",
   "execution_count": 92,
   "metadata": {},
   "outputs": [
    {
     "name": "stdout",
     "output_type": "stream",
     "text": [
      "-- Epoch 1\n",
      "Norm: 257.66, NNZs: 1, Bias: 748.662638, T: 1, Avg. loss: 13819.873321\n",
      "Total training time: 0.00 seconds.\n",
      "[257.66497414]\n",
      "[837.34241918] [985] 147.65758081861566\n",
      "-- Epoch 1\n",
      "Norm: 262.75, NNZs: 1, Bias: 763.428396, T: 1, Avg. loss: 10901.380587\n",
      "Total training time: 0.00 seconds.\n",
      "[262.7468608]\n",
      "[853.85719495] [985] 131.14280505003615\n",
      "-- Epoch 1\n",
      "Norm: 267.26, NNZs: 1, Bias: 776.542677, T: 1, Avg. loss: 8599.217658\n",
      "Total training time: 0.00 seconds.\n",
      "[267.26036338]\n",
      "[868.5248741] [985] 116.47512590307531\n",
      "-- Epoch 1\n",
      "Norm: 271.27, NNZs: 1, Bias: 788.190189, T: 1, Avg. loss: 6783.227477\n",
      "Total training time: 0.00 seconds.\n",
      "[271.26905285]\n",
      "[881.55204531] [985] 103.44795468543703\n",
      "-- Epoch 1\n",
      "Norm: 274.83, NNZs: 1, Bias: 798.534985, T: 1, Avg. loss: 5350.739664\n",
      "Total training time: 0.00 seconds.\n",
      "[274.82939007]\n",
      "[893.12219136] [985] 91.87780863620162\n",
      "-- Epoch 1\n",
      "Norm: 277.99, NNZs: 1, Bias: 807.722766, T: 1, Avg. loss: 4220.765860\n",
      "Total training time: 0.00 seconds.\n",
      "[277.99152105]\n",
      "[903.39827336] [985] 81.60172664079607\n",
      "-- Epoch 1\n",
      "Norm: 280.80, NNZs: 1, Bias: 815.882938, T: 1, Avg. loss: 3329.420895\n",
      "Total training time: 0.00 seconds.\n",
      "[280.79998319]\n",
      "[912.52502601] [985] 72.47497398556243\n",
      "-- Epoch 1\n",
      "Norm: 283.29, NNZs: 1, Bias: 823.130436, T: 1, Avg. loss: 2626.310927\n",
      "Total training time: 0.01 seconds.\n",
      "[283.29433263]\n",
      "[920.63099618] [985] 64.36900382426415\n",
      "-- Epoch 1\n",
      "Norm: 285.51, NNZs: 1, Bias: 829.567336, T: 1, Avg. loss: 2071.684327\n",
      "Total training time: 0.00 seconds.\n",
      "[285.50970132]\n",
      "[927.83035336] [985] 57.169646644557815\n",
      "-- Epoch 1\n",
      "Norm: 287.48, NNZs: 1, Bias: 835.284301, T: 1, Avg. loss: 1634.184249\n",
      "Total training time: 0.00 seconds.\n",
      "[287.4772919]\n",
      "[934.22449777] [985] 50.77550223375647\n",
      "-- Epoch 1\n",
      "Norm: 289.22, NNZs: 1, Bias: 840.361851, T: 1, Avg. loss: 1289.075814\n",
      "Total training time: 0.00 seconds.\n",
      "[289.22481713]\n",
      "[939.9034885] [985] 45.096511495329196\n",
      "-- Epoch 1\n",
      "Norm: 290.78, NNZs: 1, Bias: 844.871502, T: 1, Avg. loss: 1016.847675\n",
      "Total training time: 0.00 seconds.\n",
      "[290.77689023]\n",
      "[944.947312] [985] 40.05268800071701\n",
      "-- Epoch 1\n",
      "Norm: 292.16, NNZs: 1, Bias: 848.876771, T: 1, Avg. loss: 802.108908\n",
      "Total training time: 0.00 seconds.\n",
      "[292.15537158]\n",
      "[949.42700859] [985] 35.57299141085309\n",
      "-- Epoch 1\n",
      "Norm: 293.38, NNZs: 1, Bias: 852.434070, T: 1, Avg. loss: 632.718859\n",
      "Total training time: 0.00 seconds.\n",
      "[293.37967656]\n",
      "[953.4056731] [985] 31.594326899956627\n",
      "-- Epoch 1\n",
      "Norm: 294.47, NNZs: 1, Bias: 855.593503, T: 1, Avg. loss: 499.100746\n",
      "Total training time: 0.00 seconds.\n",
      "[294.46704903]\n",
      "[956.93934351] [985] 28.060656488865902\n"
     ]
    }
   ],
   "source": [
    "p_sum = [] ;# this holds the sum of y-y_hat, for all instances (ok, we have only one instance)\n",
    "coef_list=[]; # this holds the coefficient values\n",
    "epochs = 15 ;# number of epochs\n",
    "\n",
    "for epoch in range(epochs):\n",
    "    model = sgd.partial_fit(fX, fy)\n",
    "    y = model.predict(fX)\n",
    "    coef_list.append(model.coef_.tolist())\n",
    "    print(model.coef_)\n",
    "    p_sum.append(np.sum(fy-y))\n",
    "    print(y, fy, np.sum(fy-y))"
   ]
  },
  {
   "cell_type": "markdown",
   "metadata": {},
   "source": [
    "Restore the original stdout, and collect the loss from the prints in array `loss_list`:"
   ]
  },
  {
   "cell_type": "code",
   "execution_count": 93,
   "metadata": {},
   "outputs": [
    {
     "name": "stdout",
     "output_type": "stream",
     "text": [
      "-- Epoch 1\n",
      "Norm: 33.90, NNZs: 1, Bias: 98.500000, T: 1, Avg. loss: 485112.500000\n",
      "Total training time: 0.00 seconds.\n",
      "[110.167416] [985] 874.8325839969335\n",
      "-- Epoch 1\n",
      "Norm: 64.01, NNZs: 1, Bias: 185.983258, T: 1, Avg. loss: 382666.025011\n",
      "Total training time: 0.00 seconds.\n",
      "[208.01314719] [985] 776.9868528149764\n",
      "-- Epoch 1\n",
      "Norm: 90.75, NNZs: 1, Bias: 263.681944, T: 1, Avg. loss: 301854.284724\n",
      "Total training time: 0.00 seconds.\n",
      "[294.91531352] [985] 690.0846864769246\n",
      "-- Epoch 1\n",
      "Norm: 114.50, NNZs: 1, Bias: 332.690412, T: 1, Avg. loss: 238108.437255\n",
      "Total training time: 0.00 seconds.\n",
      "[372.09789904] [985] 612.9021009617479\n",
      "-- Epoch 1\n",
      "Norm: 135.60, NNZs: 1, Bias: 393.980622, T: 1, Avg. loss: 187824.492682\n",
      "Total training time: 0.00 seconds.\n",
      "[440.64799115] [985] 544.3520088543303\n",
      "-- Epoch 1\n",
      "Norm: 154.33, NNZs: 1, Bias: 448.415823, T: 1, Avg. loss: 148159.554772\n",
      "Total training time: 0.00 seconds.\n",
      "[501.53109187] [985] 483.4689081319344\n",
      "-- Epoch 1\n",
      "Norm: 170.97, NNZs: 1, Bias: 496.762714, T: 1, Avg. loss: 116871.092565\n",
      "Total training time: 0.00 seconds.\n",
      "[555.60471657] [985] 429.39528343475763\n",
      "-- Epoch 1\n",
      "Norm: 185.75, NNZs: 1, Bias: 539.702242, T: 1, Avg. loss: 92190.154718\n",
      "Total training time: 0.00 seconds.\n",
      "[603.63047171] [985] 381.36952828763924\n",
      "-- Epoch 1\n",
      "Norm: 198.87, NNZs: 1, Bias: 577.839195, T: 1, Avg. loss: 72721.358553\n",
      "Total training time: 0.00 seconds.\n",
      "[646.28478184] [985] 338.715218161997\n",
      "-- Epoch 1\n",
      "Norm: 210.53, NNZs: 1, Bias: 611.710717, T: 1, Avg. loss: 57363.999507\n",
      "Total training time: 0.00 seconds.\n",
      "[684.16841671] [985] 300.8315832931421\n",
      "-- Epoch 1\n",
      "Norm: 220.88, NNZs: 1, Bias: 641.793875, T: 1, Avg. loss: 45249.820753\n",
      "Total training time: 0.00 seconds.\n",
      "[717.81495293] [985] 267.1850470662215\n",
      "-- Epoch 1\n",
      "Norm: 230.08, NNZs: 1, Bias: 668.512380, T: 1, Avg. loss: 35693.924688\n",
      "Total training time: 0.00 seconds.\n",
      "[747.69828921] [985] 237.30171079216734\n",
      "-- Epoch 1\n",
      "Norm: 238.25, NNZs: 1, Bias: 692.242551, T: 1, Avg. loss: 28156.050972\n",
      "Total training time: 0.00 seconds.\n",
      "[774.23932098] [985] 210.7606790245734\n",
      "-- Epoch 1\n",
      "Norm: 245.50, NNZs: 1, Bias: 713.318619, T: 1, Avg. loss: 22210.031911\n",
      "Total training time: 0.00 seconds.\n",
      "[797.81186859] [985] 187.18813140712268\n",
      "-- Epoch 1\n",
      "Norm: 251.94, NNZs: 1, Bias: 732.037432, T: 1, Avg. loss: 17519.698270\n",
      "Total training time: 0.00 seconds.\n",
      "[818.74794244] [985] 166.25205755578747\n",
      "\n"
     ]
    }
   ],
   "source": [
    "sys.stdout = old_stdout\n",
    "loss_history = mystdout.getvalue()\n",
    "print(loss_history)\n",
    "loss_list = []\n",
    "for line in loss_history.split('\\n'):\n",
    "    if(len(line.split(\"loss: \")) == 1):\n",
    "        continue\n",
    "    loss_list.append(float(line.split(\"loss: \")[-1]))"
   ]
  },
  {
   "cell_type": "markdown",
   "metadata": {},
   "source": [
    "Print the model coefficients:"
   ]
  },
  {
   "cell_type": "code",
   "execution_count": 94,
   "metadata": {},
   "outputs": [
    {
     "name": "stdout",
     "output_type": "stream",
     "text": [
      "[294.46704903]\n"
     ]
    }
   ],
   "source": [
    "print(model.coef_)"
   ]
  },
  {
   "cell_type": "markdown",
   "metadata": {},
   "source": [
    "## Print the loss function over epochs..."
   ]
  },
  {
   "cell_type": "code",
   "execution_count": 95,
   "metadata": {},
   "outputs": [
    {
     "data": {
      "image/png": "[encoded data removed]",
      "text/plain": [
       "<Figure size 432x288 with 1 Axes>"
      ]
     },
     "metadata": {
      "needs_background": "light"
     },
     "output_type": "display_data"
    }
   ],
   "source": [
    "plt.figure()\n",
    "plt.plot(np.arange(len(loss_list)), loss_list)\n",
    "plt.scatter(np.arange(len(loss_list)), loss_list)\n",
    "plt.xlabel(\"Time in epochs\")\n",
    "plt.ylabel(\"Loss\")\n",
    "plt.show()"
   ]
  },
  {
   "cell_type": "markdown",
   "metadata": {},
   "source": [
    "## Print loss with respect to $y-\\hat{y}$\n",
    "\n",
    "In our case where we use only one instance and feature, $y-\\hat{y}$ gives us **an approximation of how the coeeficients are changing.**\n",
    "This is not valid in the case we have more that 1 instaces. In that case we need to use the coeeficient(s) in the x-axis."
   ]
  },
  {
   "cell_type": "code",
   "execution_count": 96,
   "metadata": {
    "scrolled": false
   },
   "outputs": [
    {
     "data": {
      "image/png": "[encoded data removed]",
      "text/plain": [
       "<Figure size 432x288 with 1 Axes>"
      ]
     },
     "metadata": {
      "needs_background": "light"
     },
     "output_type": "display_data"
    }
   ],
   "source": [
    "plt.figure()\n",
    "plt.plot(p_sum, loss_list)\n",
    "plt.scatter(p_sum, loss_list)\n",
    "plt.scatter(p_sum[:1], loss_list[:1], color='red')\n",
    "plt.xlabel(\"$y-\\hat{y}$\")\n",
    "plt.ylabel(\"Loss\")\n",
    "plt.show()"
   ]
  },
  {
   "cell_type": "markdown",
   "metadata": {},
   "source": [
    "The red dot is the starting point. "
   ]
  },
  {
   "cell_type": "markdown",
   "metadata": {},
   "source": [
    "## Print loss with respect to coefficient\n",
    "\n",
    "One can see that the graph below has similar behavior with the previous graph with different learning rates. Actually if one plots $\\hat{y}-y$ above, the two graphs will have exactly the same shape (not in absotule values, but in the changing behavior)."
   ]
  },
  {
   "cell_type": "code",
   "execution_count": 97,
   "metadata": {},
   "outputs": [
    {
     "data": {
      "image/png": "[encoded data removed]",
      "text/plain": [
       "<Figure size 432x288 with 1 Axes>"
      ]
     },
     "metadata": {
      "needs_background": "light"
     },
     "output_type": "display_data"
    }
   ],
   "source": [
    "plt.figure()\n",
    "plt.plot(coef_list, loss_list)\n",
    "plt.scatter(coef_list, loss_list)\n",
    "plt.scatter(coef_list[:1], loss_list[:1], color='red')\n",
    "plt.xlabel(\"$w$\")\n",
    "plt.ylabel(\"Loss\")\n",
    "plt.show()"
   ]
  }
 ],
 "metadata": {
  "kernelspec": {
   "display_name": "Python 3",
   "language": "python",
   "name": "python3"
  },
  "language_info": {
   "codemirror_mode": {
    "name": "ipython",
    "version": 3
   },
   "file_extension": ".py",
   "mimetype": "text/x-python",
   "name": "python",
   "nbconvert_exporter": "python",
   "pygments_lexer": "ipython3",
   "version": "3.7.4"
  }
 },
 "nbformat": 4,
 "nbformat_minor": 2
}
